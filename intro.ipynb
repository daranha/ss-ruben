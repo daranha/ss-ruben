{
 "cells": [
  {
   "cell_type": "code",
   "execution_count": 3,
   "id": "c8fc66c2",
   "metadata": {},
   "outputs": [],
   "source": [
    "from music21 import *"
   ]
  },
  {
   "cell_type": "markdown",
   "id": "92be7867",
   "metadata": {},
   "source": [
    "## Torres de Hanoi"
   ]
  },
  {
   "cell_type": "code",
   "execution_count": 4,
   "id": "d5c9aa0a",
   "metadata": {},
   "outputs": [],
   "source": [
    "def Hanoi(n, origen, destino, auxiliar): \n",
    "    if n==1:\n",
    "        L1 = [1, [origen, destino] ]\n",
    "        return L1\n",
    "    L = Hanoi(n-1, origen, auxiliar, destino) \n",
    "    L1 = L + [n, [origen, destino]]\n",
    "    L2 = Hanoi(n-1, auxiliar, destino, origen )\n",
    "    L1 += L2\n",
    "    return L1\n",
    "          \n",
    "\n",
    "# Sonificar algoritmo para resolver torres de Hanoi:\n",
    "        # n es el número de aros, que (por default) corresponden a octavas (salto2=12), \n",
    "        # los tres palitos (por default) corresponen a tónica, tercera y quinta (salto1=2)\n",
    "    # cada movimiento toca el origen y el destino en la octava correspondiente al tamaño de la pieza. \n",
    "\n",
    "\n",
    "\n",
    "def singHanoi(discos,  salto1=2, salto2=12):\n",
    "    n = discos\n",
    "    tonica=int(60-(n-3)*salto2)    # Define el tono inicial, Do, cuya octava depende de qué tantos aros se resolverán. \n",
    "    L = Hanoi(n, 0, 3+1*salto1, 2*salto1 )\n",
    "    S = [ ]\n",
    "    for i in range(0, len(L),2):\n",
    "        S += [tonica + L[i+1][0]+((L[i]-1)*salto2), tonica + L[i+1][1]+((L[i]-1)*salto2), 0 ]  \n",
    "        # el cero corresponde a un silencio después de cada movimiento \n",
    "    sonido = stream.Stream()\n",
    "    for x in S:\n",
    "        if x == 0:\n",
    "            sonido.append([note.Rest()])\n",
    "        else:\n",
    "            sonido.append([note.Note(x)])\n",
    "    return L, S # sonido.show('midi'), "
   ]
  },
  {
   "cell_type": "code",
   "execution_count": 5,
   "id": "bcf60277",
   "metadata": {},
   "outputs": [
    {
     "data": {
      "text/plain": [
       "([1, [0, 5], 2, [0, 4], 1, [5, 4], 3, [0, 5], 1, [4, 0], 2, [4, 5], 1, [0, 5]],\n",
       " [60, 65, 0, 72, 76, 0, 65, 64, 0, 84, 89, 0, 64, 60, 0, 76, 77, 0, 60, 65, 0])"
      ]
     },
     "execution_count": 5,
     "metadata": {},
     "output_type": "execute_result"
    }
   ],
   "source": [
    "singHanoi(3)"
   ]
  },
  {
   "cell_type": "code",
   "execution_count": 6,
   "id": "92b730f6",
   "metadata": {},
   "outputs": [
    {
     "data": {
      "text/plain": [
       "[1,\n",
       " ['o', 'd'],\n",
       " 2,\n",
       " ['o', 'a'],\n",
       " 1,\n",
       " ['d', 'a'],\n",
       " 3,\n",
       " ['o', 'd'],\n",
       " 1,\n",
       " ['a', 'o'],\n",
       " 2,\n",
       " ['a', 'd'],\n",
       " 1,\n",
       " ['o', 'd']]"
      ]
     },
     "execution_count": 6,
     "metadata": {},
     "output_type": "execute_result"
    }
   ],
   "source": [
    "Hanoi(3, 'o', 'd', 'a')"
   ]
  },
  {
   "cell_type": "markdown",
   "id": "9e77ca98",
   "metadata": {},
   "source": [
    "## Simetrías de Frisos"
   ]
  },
  {
   "cell_type": "code",
   "execution_count": 13,
   "id": "b8d4ae97",
   "metadata": {},
   "outputs": [
    {
     "data": {
      "text/plain": [
       "74"
      ]
     },
     "execution_count": 13,
     "metadata": {},
     "output_type": "execute_result"
    }
   ],
   "source": [
    "\n",
    "def refleja_nota(x, eje=59):\n",
    "    return x-2*(x-eje)\n",
    "\n",
    "\n",
    "refleja_nota(44)"
   ]
  },
  {
   "cell_type": "code",
   "execution_count": 15,
   "id": "849534a2",
   "metadata": {},
   "outputs": [],
   "source": [
    "def frisos_partitura(L, tipo_sim='', eje_sim=59, compases=8):\n",
    "    \"\"\"genera simetrías de frisos en una partitura\n",
    "        INPUT: \n",
    "          - L - lista con compás original\n",
    "          - tipo_sim - entero 1-7, tipo de simetría: \n",
    "                {'1':  , '2':  , '3':  , '4':  , '5': , '6':  , '7':  , 'default': random_int}\n",
    "          - eje_sim - eje de simetría bilateral, 'default': max(L)\n",
    "          - compases: número de compases a rellenar\n",
    "    \"\"\"            \n",
    "    if tipo_sim: \n",
    "        grupo = tipo_sim\n",
    "    else:\n",
    "        grupo = random.randint(1,7)\n",
    "    L1 = L\n",
    "    L2 = L + [refleja_nota(x) for x in L]\n",
    "    L3 = L + [ L[len(L)-1-i] for i in range(len(L)) ]\n",
    "    L4 = L + [refleja_nota(L[len(L)-1-i], eje_sim) for i in range(len(L)) ]\n",
    "    L5 = L + [refleja_nota(L[len(L)-1-i], eje_sim) for i in range(len(L)) ]  + [refleja_nota(L[i], eje_sim) for i in range(len(L)) ]     + [ L[len(L)-1-i] for i in range(len(L)) ]\n",
    "    L6 = [ (L[i], refleja_nota(L[i], eje_sim)) for i in range(len(L)) ]\n",
    "    L7 = [ (L[i], refleja_nota(L[i], eje_sim)) for i in range(len(L)) ] +  [ (L[len(L)-i-1], refleja_nota(L[len(L)-i-1], eje_sim)) for i in range(len(L)) ]\n",
    "    \n",
    "    LLL = [L1, L2, L3, L4, L5, L6, L7] \n",
    "    print('simetría tipo',grupo)\n",
    "    compas = compases*4\n",
    "    sale = LLL[grupo-1]*int(1 + compas/len(LLL[grupo-1]))\n",
    "    return sale[:compas]"
   ]
  },
  {
   "cell_type": "code",
   "execution_count": 23,
   "id": "a01ba737",
   "metadata": {},
   "outputs": [],
   "source": [
    "from music21 import *\n",
    "\n",
    "def son_frisos(lista, simetria='', eje_sim=59, compases=8, ):\n",
    "    t = stream.Stream()\n",
    "    if simetria: \n",
    "        grupo = simetria\n",
    "    else:\n",
    "        grupo = random.randint(1,7)\n",
    "        print(grupo)\n",
    "    for x in frisos_partitura(lista, grupo, eje_sim, compases ):\n",
    "        if grupo < 6:\n",
    "            t.append([note.Note(x)])\n",
    "        else:\n",
    "            t.append([chord.Chord([x[0], x[1]])])\n",
    "    return t.show('midi',)\n",
    "    \n",
    "    \n",
    "#fluidsynth.play_Track(t, 1, 130)\n",
    "    "
   ]
  },
  {
   "cell_type": "code",
   "execution_count": 24,
   "id": "6e8c48a5",
   "metadata": {},
   "outputs": [],
   "source": [
    "L = [43, 47, 45, 43]"
   ]
  },
  {
   "cell_type": "code",
   "execution_count": 25,
   "id": "faa1762c",
   "metadata": {},
   "outputs": [
    {
     "name": "stdout",
     "output_type": "stream",
     "text": [
      "simetría tipo 1\n"
     ]
    },
    {
     "data": {
      "text/html": [
       "\n",
       "        <div id=\"midiPlayerDiv984\"></div>\n",
       "        <link rel=\"stylesheet\" href=\"https://cuthbertLab.github.io/music21j/css/m21.css\">\n",
       "        \n",
       "        <script\n",
       "        src=\"https://cdnjs.cloudflare.com/ajax/libs/require.js/2.3.6/require.min.js\"\n",
       "        ></script>\n",
       "    \n",
       "        <script>\n",
       "        function midiPlayerDiv984_play() {\n",
       "            const rq = require.config({\n",
       "                paths: {\n",
       "                    'music21': 'https://cuthbertLab.github.io/music21j/releases/music21.debug',\n",
       "                }\n",
       "            });\n",
       "            rq(['music21'], function(music21) {\n",
       "                mp = new music21.miditools.MidiPlayer();\n",
       "                mp.addPlayer(\"#midiPlayerDiv984\");\n",
       "                mp.base64Load(\"data:audio/midi;base64,TVRoZAAAAAYAAQACJ2BNVHJrAAAAFAD/UQMHoSAA/1gEBAIYCM5g/y8ATVRyawAAAS4A/wMAAOAAQM5gkCtazmCAKwAAkC9azmCALwAAkC1azmCALQAAkCtazmCAKwAAkCtazmCAKwAAkC9azmCALwAAkC1azmCALQAAkCtazmCAKwAAkCtazmCAKwAAkC9azmCALwAAkC1azmCALQAAkCtazmCAKwAAkCtazmCAKwAAkC9azmCALwAAkC1azmCALQAAkCtazmCAKwAAkCtazmCAKwAAkC9azmCALwAAkC1azmCALQAAkCtazmCAKwAAkCtazmCAKwAAkC9azmCALwAAkC1azmCALQAAkCtazmCAKwAAkCtazmCAKwAAkC9azmCALwAAkC1azmCALQAAkCtazmCAKwAAkCtazmCAKwAAkC9azmCALwAAkC1azmCALQAAkCtazmCAKwDOYP8vAA==\");\n",
       "            });\n",
       "        }\n",
       "        if (typeof require === 'undefined') {\n",
       "            setTimeout(midiPlayerDiv984_play, 2000);\n",
       "        } else {\n",
       "            midiPlayerDiv984_play();\n",
       "        }\n",
       "        </script>"
      ],
      "text/plain": [
       "<IPython.core.display.HTML object>"
      ]
     },
     "metadata": {},
     "output_type": "display_data"
    }
   ],
   "source": [
    "son_frisos(L, 1)"
   ]
  },
  {
   "cell_type": "code",
   "execution_count": null,
   "id": "e5a94a14",
   "metadata": {},
   "outputs": [],
   "source": []
  }
 ],
 "metadata": {
  "kernelspec": {
   "display_name": "Python 3 (ipykernel)",
   "language": "python",
   "name": "python3"
  },
  "language_info": {
   "codemirror_mode": {
    "name": "ipython",
    "version": 3
   },
   "file_extension": ".py",
   "mimetype": "text/x-python",
   "name": "python",
   "nbconvert_exporter": "python",
   "pygments_lexer": "ipython3",
   "version": "3.11.1"
  }
 },
 "nbformat": 4,
 "nbformat_minor": 5
}
